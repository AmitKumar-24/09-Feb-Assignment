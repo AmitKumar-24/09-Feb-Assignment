{
 "cells": [
  {
   "cell_type": "markdown",
   "id": "7bc34b88-7894-4f2e-815b-f392e3afdd21",
   "metadata": {},
   "source": [
    "Q1, Create a vehicle class with an init method having instance variables as name_of_vehicle, max_speed  and average_of_vehicle. "
   ]
  },
  {
   "cell_type": "code",
   "execution_count": 1,
   "id": "af4b9c61-5a8a-4dee-b9de-7f7a942748b3",
   "metadata": {},
   "outputs": [],
   "source": [
    "# vehicle class with an init method having instance variables as name_of_vehicle, max_speed  and average_of_vehicle. \n",
    "class vehicle:\n",
    "    def __init__(self, name_of_vehicle, max_speed, average_of_vehicle):\n",
    "        self.name_of_vehicle = name_of_vehicle\n",
    "        self.max_speed = max_speed\n",
    "        self.average_of_vehicle = average_of_vehicle"
   ]
  },
  {
   "cell_type": "markdown",
   "id": "1440ace0-a7a7-41bc-8016-f3c102fdc591",
   "metadata": {},
   "source": [
    "Q2.  Create a child class car from the vehicle class created in Que 1, which will inherit the vehicle class.  Create a method named seating_capacity which takes capacity as an argument and returns the name of  the vehicle and its seating capacity. "
   ]
  },
  {
   "cell_type": "code",
   "execution_count": 8,
   "id": "836cb6f4-a98b-42ad-acfa-309f3ab923d2",
   "metadata": {},
   "outputs": [],
   "source": [
    "# child class car from the vehicle class created in Que 1, which will inherit the vehicle class.  \n",
    "# Create a method named seating_capacity which takes capacity as an argument and returns the name of  the vehicle and its seating capacity. \n",
    "class car(vehicle):\n",
    "    def seating_capacity(self,capacity):\n",
    "        self.capacity = capacity\n",
    "        return self.name_of_vehicle, self.capacity"
   ]
  },
  {
   "cell_type": "code",
   "execution_count": 9,
   "id": "3a93687b-fbde-436e-83da-fd6e13668699",
   "metadata": {},
   "outputs": [
    {
     "data": {
      "text/plain": [
       "('Rolls-Royce Ghost', 5)"
      ]
     },
     "execution_count": 9,
     "metadata": {},
     "output_type": "execute_result"
    }
   ],
   "source": [
    "c = car('Rolls-Royce Ghost', 155 , 10)\n",
    "c.seating_capacity(5)"
   ]
  },
  {
   "cell_type": "markdown",
   "id": "6bfba5c0-78c1-4bb8-a7d0-72e100536162",
   "metadata": {},
   "source": [
    "Q3. What is multiple inheritance? Write a python code to demonstrate multiple inheritance. "
   ]
  },
  {
   "cell_type": "markdown",
   "id": "7f2d38ba-0412-47c0-9a01-0d38f0d2e06b",
   "metadata": {},
   "source": [
    "Multiple Inheritance when a class can be derived from more than one base class this type of inheritance is called multiple inheritances. in multiple inheritances, all the features of the base classes are inherited into the derived class."
   ]
  },
  {
   "cell_type": "code",
   "execution_count": 13,
   "id": "9ce006b0-4d92-461b-b1cb-10a3ac4e1eb4",
   "metadata": {},
   "outputs": [
    {
     "name": "stdout",
     "output_type": "stream",
     "text": [
      "father :  Ram\n",
      "mother :  Sita\n"
     ]
    }
   ],
   "source": [
    "#multiple inheritances\n",
    "#base class 1\n",
    "class father:\n",
    "    fatherName = 'Ram'\n",
    "    \n",
    "    def father(self):\n",
    "        print(self.father)\n",
    "        \n",
    "#base class 2\n",
    "class mother:\n",
    "    motherName = 'Sita'\n",
    "    \n",
    "    def mother(self):\n",
    "        print(self.mother)\n",
    "\n",
    "#derived class\n",
    "class son(father, mother):\n",
    "    def parents(self):\n",
    "        print('father : ', self.fatherName)\n",
    "        print('mother : ', self.motherName)\n",
    "        \n",
    "s1 = son()\n",
    "s1.parents()"
   ]
  },
  {
   "cell_type": "markdown",
   "id": "2dcb6d62-3791-4e97-83b3-7ed651505c34",
   "metadata": {},
   "source": [
    "Q4. What are getter and setter in python? Create a class and create a getter and a setter method in this  class. "
   ]
  },
  {
   "cell_type": "markdown",
   "id": "45dc38eb-5c09-464a-8bea-29de5878104c",
   "metadata": {},
   "source": [
    "In object-oriented programming, getters and setters are methods used to retrieve and update the values of object properties, respectively. The use of getters and setters is a common technique for encapsulating object data and ensuring that it can be accessed and modified in a controlled and predictable manner."
   ]
  },
  {
   "cell_type": "code",
   "execution_count": 16,
   "id": "d3858431-6883-4cbe-86a0-d044ff6d2af2",
   "metadata": {},
   "outputs": [
    {
     "name": "stdout",
     "output_type": "stream",
     "text": [
      "mohan\n",
      "ram\n"
     ]
    }
   ],
   "source": [
    "class person:\n",
    "    def __init__(self, name):\n",
    "        self._name = name\n",
    "    def get_name(self):\n",
    "        return self._name\n",
    "    def set_name(self,name):\n",
    "        self._name = name\n",
    "p = person('mohan')\n",
    "print(p.get_name())\n",
    "p.set_name('ram')\n",
    "print(p.get_name())"
   ]
  },
  {
   "cell_type": "markdown",
   "id": "da358b01-4833-427f-81fa-961bf3a5e87e",
   "metadata": {},
   "source": [
    "Q5.What is method overriding in python? Write a python code to demonstrate method overriding. "
   ]
  },
  {
   "cell_type": "markdown",
   "id": "b4ce69ee-c355-48e2-a85d-a885961c56ce",
   "metadata": {},
   "source": [
    "Method overriding is an ability of any object-oriented programming language that allows a subclass or child class to provide a specific implementation of a method that is already provided by one of its super-classes or parent classes. When a method in a subclass has the same name, same parameters or signature and same return type(or sub-type) as a method in its super-class, then the method in the subclass is said to override the method in the super-class."
   ]
  },
  {
   "cell_type": "code",
   "execution_count": 17,
   "id": "ce93cb87-77cc-4e3a-8241-ea580d58a3d9",
   "metadata": {},
   "outputs": [
    {
     "name": "stdout",
     "output_type": "stream",
     "text": [
      "Inside Parent\n",
      "Inside Child\n"
     ]
    }
   ],
   "source": [
    "# method overriding\n",
    "class Parent():\n",
    "      \n",
    "    def __init__(self):\n",
    "        self.value = \"Inside Parent\"\n",
    "          \n",
    "    def show(self):\n",
    "        print(self.value)\n",
    "          \n",
    "class Child(Parent):\n",
    "      \n",
    "    def __init__(self):\n",
    "        self.value = \"Inside Child\"\n",
    "          \n",
    "    def show(self):\n",
    "        print(self.value)\n",
    "          \n",
    "obj1 = Parent()\n",
    "obj2 = Child()\n",
    "  \n",
    "obj1.show()\n",
    "obj2.show()"
   ]
  },
  {
   "cell_type": "code",
   "execution_count": null,
   "id": "09ca6440-cd1d-4a26-aade-99aae72f8c75",
   "metadata": {},
   "outputs": [],
   "source": []
  }
 ],
 "metadata": {
  "kernelspec": {
   "display_name": "Python 3 (ipykernel)",
   "language": "python",
   "name": "python3"
  },
  "language_info": {
   "codemirror_mode": {
    "name": "ipython",
    "version": 3
   },
   "file_extension": ".py",
   "mimetype": "text/x-python",
   "name": "python",
   "nbconvert_exporter": "python",
   "pygments_lexer": "ipython3",
   "version": "3.10.8"
  }
 },
 "nbformat": 4,
 "nbformat_minor": 5
}
